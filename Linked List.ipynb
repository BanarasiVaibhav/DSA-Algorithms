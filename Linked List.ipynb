{
 "cells": [
  {
   "cell_type": "code",
   "execution_count": 1,
   "metadata": {},
   "outputs": [],
   "source": [
    "class Node:\n",
    "    def __init__(self,data=None):\n",
    "        self.data=data\n",
    "        self.next=None\n",
    "   "
   ]
  },
  {
   "cell_type": "code",
   "execution_count": 2,
   "metadata": {},
   "outputs": [],
   "source": [
    "a=Node(13)\n",
    "b=Node(15)\n",
    "a.next=b"
   ]
  },
  {
   "cell_type": "code",
   "execution_count": 3,
   "metadata": {},
   "outputs": [
    {
     "name": "stdout",
     "output_type": "stream",
     "text": [
      "<__main__.Node object at 0x00000222D88F6630>\n",
      "<__main__.Node object at 0x00000222D88F65F8>\n",
      "13\n",
      "15\n",
      "15\n"
     ]
    }
   ],
   "source": [
    "print(a)\n",
    "print(b)\n",
    "print(a.data)\n",
    "print(b.data)\n",
    "print(a.next.data)"
   ]
  },
  {
   "cell_type": "code",
   "execution_count": 4,
   "metadata": {},
   "outputs": [
    {
     "name": "stdout",
     "output_type": "stream",
     "text": [
      "<__main__.Node object at 0x00000222D88F65F8>\n",
      "<__main__.Node object at 0x00000222D88F65F8>\n",
      "both \"a.next\" and \"b\" are one and same thing because they are pointing to same address\n"
     ]
    }
   ],
   "source": [
    "if a.next == b:\n",
    "    print(a.next)\n",
    "    print(b)\n",
    "    print('both \"a.next\" and \"b\" are one and same thing because they are pointing to same address')"
   ]
  },
  {
   "cell_type": "code",
   "execution_count": 5,
   "metadata": {},
   "outputs": [],
   "source": [
    "class LinkedList:\n",
    "    \n",
    "    def __init__(self):\n",
    "        self.head=None\n",
    "        \n",
    "    def insert_at_begining(self,data):\n",
    "        temp_node=Node(data)\n",
    "        temp_node.next=self.head\n",
    "        self.head=temp_node\n",
    "        \n",
    "        \n",
    "    def print_list(self):\n",
    "        temp_node=self.head\n",
    "        while(temp_node):\n",
    "            print(temp_node.data)\n",
    "            temp_node=temp_node.next\n",
    "            \n",
    "    def insert_at_last(self,data):\n",
    "        \n",
    "        temp_node=Node(data)\n",
    "        \n",
    "        curr_node=self.head\n",
    "        \n",
    "        while(curr_node.next):\n",
    "            curr_node = curr_node.next\n",
    "            \n",
    "        curr_node.next = temp_node\n",
    "        \n",
    "    def insert_after(self,after_node,data):\n",
    "        # before node contains data of the node \n",
    "        # data is the node->data to be inserted after some node\n",
    "        temp_node = Node(data)\n",
    "        \n",
    "        # edge case if the List is empty\n",
    "        if self.head is None:\n",
    "            print(\"Error-----Empty List\")\n",
    "            return\n",
    "        \n",
    "        # edge case inset after the last node \n",
    "        # this is same as insert at last\n",
    "        # normal insert at somewher in between\n",
    "        \n",
    "        curr_node=self.head\n",
    "        \n",
    "        # check if the node is present or not\n",
    "        if self.is_present(after_node):\n",
    "            pass\n",
    "        else:\n",
    "            print(\"Data :\",str(after_node), \" not present in Linked List\")\n",
    "            return\n",
    "        \n",
    "        # assume that the node is already present in Linked List\n",
    "        while(curr_node.data is not after_node):\n",
    "            curr_node=curr_node.next\n",
    "            \n",
    "        temp_node.next = curr_node.next\n",
    "        curr_node.next = temp_node\n",
    "            \n",
    "        \n",
    "    def insert_before(self,before_node,data):\n",
    "        \n",
    "        \n",
    "        temp_node=Node(data)\n",
    "        curr_node=self.head\n",
    "        \n",
    "        # edge case if the List is empty\n",
    "        if self.head is None:\n",
    "            print(\"Error-----Empty List\")\n",
    "            return\n",
    "        \n",
    "        # edge case insert before first element\n",
    "        if curr_node.data == before_node:\n",
    "            self.insert_at_begining(data)\n",
    "            return\n",
    "        \n",
    "        # check if the node is present or not\n",
    "        if self.is_present(before_node):\n",
    "            pass\n",
    "        else:\n",
    "            print(\"Data :\",str(before_node), \" not present in Linked List\")\n",
    "            return\n",
    "        # assume that the node is already present in Linked List\n",
    "        while(curr_node.next.data is not before_node):\n",
    "            curr_node=curr_node.next\n",
    "            \n",
    "        temp_node.next=curr_node.next\n",
    "        curr_node.next=temp_node\n",
    "            \n",
    "    def is_present(self,data):\n",
    "        # working correctly\n",
    "        \n",
    "        curr_node=self.head\n",
    "        try:\n",
    "            while(curr_node.data is not data):\n",
    "                curr_node = curr_node.next\n",
    "        except AttributeError:\n",
    "            return False\n",
    "        return curr_node.data == data\n",
    "            \n",
    "        \n",
    "    "
   ]
  },
  {
   "cell_type": "code",
   "execution_count": 6,
   "metadata": {},
   "outputs": [],
   "source": [
    "my_list=LinkedList()"
   ]
  },
  {
   "cell_type": "code",
   "execution_count": 7,
   "metadata": {},
   "outputs": [
    {
     "name": "stdout",
     "output_type": "stream",
     "text": [
      "Data : 100  not present in Linked List\n",
      "Data : 199  not present in Linked List\n"
     ]
    }
   ],
   "source": [
    "for i in range(10):\n",
    "    j=[1,2,3,4,5,6,7,8,9,10]\n",
    "    my_list.insert_at_begining(j[i])\n",
    "\n",
    "\n",
    "for i in range(10):\n",
    "    j=[21,22,23,24,25,26,27,28,29,30]\n",
    "    my_list.insert_at_begining(j[i])\n",
    "    \n",
    "my_list.insert_after(25,\"after 25\")\n",
    "my_list.insert_before(7,\"before 7\")\n",
    "my_list.insert_before(22,\"before 22\")\n",
    "my_list.insert_after(4,\"after 4\")\n",
    "my_list.insert_before(100,\"before 100\")\n",
    "my_list.insert_after(199,\"after 199\")"
   ]
  },
  {
   "cell_type": "code",
   "execution_count": 8,
   "metadata": {},
   "outputs": [
    {
     "name": "stdout",
     "output_type": "stream",
     "text": [
      "-------------------------\n",
      "30\n",
      "29\n",
      "28\n",
      "27\n",
      "26\n",
      "25\n",
      "after 25\n",
      "24\n",
      "23\n",
      "before 22\n",
      "22\n",
      "21\n",
      "10\n",
      "9\n",
      "8\n",
      "before 7\n",
      "7\n",
      "6\n",
      "5\n",
      "4\n",
      "after 4\n",
      "3\n",
      "2\n",
      "1\n",
      "-------------------------\n"
     ]
    }
   ],
   "source": [
    "print('-------------------------')\n",
    "my_list.print_list()\n",
    "print('-------------------------')\n"
   ]
  }
 ],
 "metadata": {
  "kernelspec": {
   "display_name": "Python 3",
   "language": "python",
   "name": "python3"
  },
  "language_info": {
   "codemirror_mode": {
    "name": "ipython",
    "version": 3
   },
   "file_extension": ".py",
   "mimetype": "text/x-python",
   "name": "python",
   "nbconvert_exporter": "python",
   "pygments_lexer": "ipython3",
   "version": "3.7.3"
  }
 },
 "nbformat": 4,
 "nbformat_minor": 2
}
